{
 "cells": [
  {
   "cell_type": "markdown",
   "metadata": {},
   "source": [
    "# Gradient Descent Learning - Multiple Inputs"
   ]
  },
  {
   "cell_type": "code",
   "execution_count": 17,
   "metadata": {
    "collapsed": false
   },
   "outputs": [
    {
     "name": "stdout",
     "output_type": "stream",
     "text": [
      "Iteration:     1\n",
      "Pred:          0.86\n",
      "Error:         0.0196\n",
      "Delta:         -0.14\n",
      "Weights:       [0.1, 0.2, -0.1]\n",
      "Weight Deltas: [-1.189999999999999, -0.09099999999999994, -0.16799999999999987]\n",
      "\n",
      "Iteration:     2\n",
      "Pred:          0.9637575\n",
      "Error:         0.00131351880625\n",
      "Delta:         -0.0362425\n",
      "Weights:       [0.1119, 0.20091, -0.09832]\n",
      "Weight Deltas: [-0.30806125000000056, -0.023557625000000044, -0.04349100000000008]\n",
      "\n",
      "Iteration:     3\n",
      "Pred:          0.990617722813\n",
      "Error:         8.80271252231e-05\n",
      "Delta:         -0.0093822771875\n",
      "Weights:       [0.11498061250000001, 0.20114557625, -0.09788509000000001]\n",
      "Weight Deltas: [-0.07974935609374867, -0.006098480171874899, -0.011258732624999811]\n",
      "\n"
     ]
    }
   ],
   "source": [
    "# there were some non-functional code snippets prior to this in the chapter\n",
    "# the following was on page 86 of my version of the MEAP and actually makes sense and works\n",
    "\n",
    "def neural_network(input, weights):\n",
    "    out = 0\n",
    "    for i in xrange(len(input)):\n",
    "        out += (input[i] * weights[i])\n",
    "    return out\n",
    "\n",
    "def ele_mul(scalar, vector):\n",
    "    out = [0, 0, 0]\n",
    "    for i in xrange(len(out)):\n",
    "        out[i] = vector[i] * scalar\n",
    "    return out\n",
    "\n",
    "toes = [8.5, 9.5, 9.9, 9.0]\n",
    "wlrec = [0.65, 0.8, 0.8, 0.9]\n",
    "nfans = [1.2, 1.3, 0.5, 1.0]\n",
    "\n",
    "win_or_lose_binary = [1, 1, 0, 1]\n",
    "true = win_or_lose_binary[0]\n",
    "\n",
    "alpha = 0.01\n",
    "weights = [0.1, 0.2, -0.1]\n",
    "input = [toes[0], wlrec[0], nfans[0]]\n",
    "\n",
    "for iter in range(3):\n",
    "    pred = neural_network(input, weights)\n",
    "    \n",
    "    error = (pred - true) ** 2\n",
    "    delta = pred - true\n",
    "    \n",
    "    weight_deltas = ele_mul(delta, input)\n",
    "    \n",
    "    print \"Iteration:     \" + str(iter+1)\n",
    "    print \"Pred:          \" + str(pred)\n",
    "    print \"Error:         \" + str(error)\n",
    "    print \"Delta:         \" + str(delta)\n",
    "    print \"Weights:       \" + str(weights)\n",
    "    print \"Weight Deltas: \" + str(weight_deltas)\n",
    "    print\n",
    "    \n",
    "    for i in range(len(weights)):\n",
    "        weights[i] -= alpha * weight_deltas[i]"
   ]
  },
  {
   "cell_type": "markdown",
   "metadata": {},
   "source": [
    "# Freezing One Weight\n",
    "#### Weight (a) for This Example"
   ]
  },
  {
   "cell_type": "code",
   "execution_count": 18,
   "metadata": {
    "collapsed": false
   },
   "outputs": [
    {
     "name": "stdout",
     "output_type": "stream",
     "text": [
      "Iteration:     1\n",
      "Pred:          0.86\n",
      "Error:         0.0196\n",
      "Delta:         -0.14\n",
      "Weights:       [0.1, 0.2, -0.1]\n",
      "Weight Deltas: [0, -0.09099999999999994, -0.16799999999999987]\n",
      "\n",
      "Iteration:     2\n",
      "Pred:          0.938225\n",
      "Error:         0.003816150625\n",
      "Delta:         -0.061775\n",
      "Weights:       [0.1, 0.2273, -0.04960000000000005]\n",
      "Weight Deltas: [0, -0.040153749999999946, -0.07412999999999989]\n",
      "\n",
      "Iteration:     3\n",
      "Pred:          0.97274178125\n",
      "Error:         0.000743010489423\n",
      "Delta:         -0.02725821875\n",
      "Weights:       [0.1, 0.239346125, -0.02736100000000008]\n",
      "Weight Deltas: [0, -0.017717842187500006, -0.032709862500000006]\n",
      "\n"
     ]
    }
   ],
   "source": [
    "def neural_network(input, weights):\n",
    "    out = 0\n",
    "    for i in xrange(len(input)):\n",
    "        out += (input[i] * weights[i])\n",
    "    return out\n",
    "\n",
    "def ele_mul(scalar, vector):\n",
    "    out = [0, 0, 0]\n",
    "    for i in xrange(len(out)):\n",
    "        out[i] = vector[i] * scalar\n",
    "    return out\n",
    "\n",
    "toes = [8.5, 9.5, 9.9, 9.0]\n",
    "wlrec = [0.65, 0.8, 0.8, 0.9]\n",
    "nfans = [1.2, 1.3, 0.5, 1.0]\n",
    "\n",
    "win_or_lose_binary = [1, 1, 0, 1]\n",
    "true = win_or_lose_binary[0]\n",
    "\n",
    "alpha = 0.3 # changed from prior example, why?\n",
    "weights = [0.1, 0.2, -0.1]\n",
    "input = [toes[0], wlrec[0], nfans[0]]\n",
    "\n",
    "for iter in range(3):\n",
    "    pred = neural_network(input, weights)\n",
    "    \n",
    "    error = (pred - true) ** 2\n",
    "    delta = pred - true\n",
    "    \n",
    "    weight_deltas = ele_mul(delta, input)\n",
    "    weight_deltas[0] = 0 # Freezing the weight for toes aka (a) in the book\n",
    "    \n",
    "    print \"Iteration:     \" + str(iter+1)\n",
    "    print \"Pred:          \" + str(pred)\n",
    "    print \"Error:         \" + str(error)\n",
    "    print \"Delta:         \" + str(delta)\n",
    "    print \"Weights:       \" + str(weights)\n",
    "    print \"Weight Deltas: \" + str(weight_deltas)\n",
    "    print\n",
    "    \n",
    "    for i in range(len(weights)):\n",
    "        weights[i] -= alpha * weight_deltas[i]"
   ]
  },
  {
   "cell_type": "markdown",
   "metadata": {},
   "source": [
    "# Gradient Descent Learning - Multiple Outputs\n",
    "#### Neural Networks can also make multiple predictions using only a single input"
   ]
  },
  {
   "cell_type": "code",
   "execution_count": null,
   "metadata": {
    "collapsed": true
   },
   "outputs": [],
   "source": []
  },
  {
   "cell_type": "markdown",
   "metadata": {},
   "source": [
    "# Gradient Descent - Mulitple Inputs & Outputs\n",
    "Sample code from the book follow, has issues with undefined functions and variables."
   ]
  },
  {
   "cell_type": "code",
   "execution_count": 24,
   "metadata": {
    "collapsed": false
   },
   "outputs": [
    {
     "ename": "IndentationError",
     "evalue": "unindent does not match any outer indentation level (<ipython-input-24-38c2c00fce88>, line 14)",
     "output_type": "error",
     "traceback": [
      "\u001b[0;36m  File \u001b[0;32m\"<ipython-input-24-38c2c00fce88>\"\u001b[0;36m, line \u001b[0;32m14\u001b[0m\n\u001b[0;31m    out[i][j] = vec_a[i] * vec_b[i]\u001b[0m\n\u001b[0m                                   ^\u001b[0m\n\u001b[0;31mIndentationError\u001b[0m\u001b[0;31m:\u001b[0m unindent does not match any outer indentation level\n"
     ]
    }
   ],
   "source": [
    "         #toes, % win, # fans\n",
    "weights = [ [0.1, 0.1, -0.3], # hurt?\n",
    "            [0.1, 0.2, 0.0], # win?\n",
    "            [0.0, 1.3, 0.1] ] # sad?\n",
    "\n",
    "def neural_network(input, weights):\n",
    "    pred = outer_prod(input, weights)\n",
    "    return pred\n",
    "\n",
    "def outer_prod(vec_a, vec_b):\n",
    "    out = zeros_matrix(len(a),len(b))\n",
    "    for i in range(len(a)):\n",
    "        for j in range(len(b)):\n",
    "            out[i][j] = vec_a[i] * vec_b[i]\n",
    "    return out\n",
    "\n",
    "toes = [8.5, 9.5, 9.9, 9.0]\n",
    "wlrec = [0.65, 0.8, 0.8, 0.9]\n",
    "nfans = [1.2, 1.3, 0.5, 1.0]\n",
    "\n",
    "hurt = [0.1, 0.0, 0.0, 0.1]\n",
    "win = [1, 1, 0, 1]\n",
    "sad = [0.1, 0.0, 0.1, 0.2]\n",
    "\n",
    "alpha = 0.1\n",
    "\n",
    "input = [toes[0], wlrec[0], nfans[0]]\n",
    "true = [hurt[0], win[0], sad[0]]\n",
    "\n",
    "pred = neural_network(input, weights)\n",
    "\n",
    "error = [0, 0, 0]\n",
    "delta = [0, 0, 0]\n",
    "\n",
    "for i in range(len(true)):\n",
    "    error[i] = (pred[i] - true[i]) ** 2\n",
    "    delta = pred[i] - true[i] # delta or delta[i] - book says delta\n",
    "    \n",
    "weight_deltas = outer_prod(input, delta)\n",
    "\n",
    "for i in range(len(weights)):\n",
    "    for j in range(len(weights[0])):\n",
    "        weights[i][j] -= alpha * weight_deltas[i][j]"
   ]
  },
  {
   "cell_type": "code",
   "execution_count": null,
   "metadata": {
    "collapsed": true
   },
   "outputs": [],
   "source": []
  }
 ],
 "metadata": {
  "anaconda-cloud": {},
  "kernelspec": {
   "display_name": "Python [default]",
   "language": "python",
   "name": "python2"
  },
  "language_info": {
   "codemirror_mode": {
    "name": "ipython",
    "version": 2
   },
   "file_extension": ".py",
   "mimetype": "text/x-python",
   "name": "python",
   "nbconvert_exporter": "python",
   "pygments_lexer": "ipython2",
   "version": "2.7.12"
  }
 },
 "nbformat": 4,
 "nbformat_minor": 1
}
