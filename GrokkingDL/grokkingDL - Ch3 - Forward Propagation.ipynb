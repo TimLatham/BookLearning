{
 "cells": [
  {
   "cell_type": "markdown",
   "metadata": {},
   "source": [
    "# Basic Neural Net - Single Input"
   ]
  },
  {
   "cell_type": "code",
   "execution_count": 4,
   "metadata": {
    "collapsed": false
   },
   "outputs": [
    {
     "name": "stdout",
     "output_type": "stream",
     "text": [
      "0.85\n"
     ]
    }
   ],
   "source": [
    "weight = 0.1\n",
    "def neural_network_s(input, weight):\n",
    "    prediction = input * weight\n",
    "    return prediction\n",
    "\n",
    "number_of_toes = [8.5, 9.5, 10, 9]\n",
    "input = number_of_toes[0]\n",
    "pred_s = neural_network_s(input, weight)\n",
    "print pred_s"
   ]
  },
  {
   "cell_type": "markdown",
   "metadata": {},
   "source": [
    "# Basic Neural Net - Multiple Inputs"
   ]
  },
  {
   "cell_type": "code",
   "execution_count": 14,
   "metadata": {
    "collapsed": false
   },
   "outputs": [
    {
     "name": "stdout",
     "output_type": "stream",
     "text": [
      "0.98\n"
     ]
    }
   ],
   "source": [
    "weights = [0.1, 0.2, 0]\n",
    "def neural_network_m(input, weights):\n",
    "    pred = w_sum(input, weights)\n",
    "    return pred\n",
    "\n",
    "def w_sum(a, b):\n",
    "    assert(len(a) == len(b))\n",
    "    output = 0\n",
    "    for i in range(len(a)):\n",
    "        output += (a[i] * b[i])\n",
    "    return output    \n",
    "    \n",
    "\"\"\"This dataset is the current status at the beginning of each game for the first 4 games in a season\n",
    "toes = current number of toes\n",
    "wlrec = current games won (percent)\n",
    "nfans = fan count (in millions)\"\"\"\n",
    "\n",
    "toes = [8.5, 9.5, 9.9, 9.0]\n",
    "wlrec = [0.65, 0.8, 0.8, 0.9]\n",
    "nfans = [1.2, 1.3, 0.5, 1.0]\n",
    "\n",
    "# input corresponds to every entry for the first game of the season\n",
    "\n",
    "input = [toes[0], wlrec[0], nfans[0]]\n",
    "\n",
    "pred_m = neural_network_m(input, weights)\n",
    "\n",
    "print pred_m"
   ]
  },
  {
   "cell_type": "markdown",
   "metadata": {},
   "source": [
    "# Basic Neural Net - Multiple Inputs - Numpy"
   ]
  },
  {
   "cell_type": "code",
   "execution_count": 13,
   "metadata": {
    "collapsed": false
   },
   "outputs": [
    {
     "name": "stdout",
     "output_type": "stream",
     "text": [
      "0.98\n"
     ]
    }
   ],
   "source": [
    "import numpy as np\n",
    "weights_mnp = np.array([0.1, 0.2, 0.0])\n",
    "def neural_network_mnp(input, weights):\n",
    "    pred = input.dot(weights)\n",
    "    return pred\n",
    "\n",
    "toes = np.array([8.5, 9.5, 9.9, 9.0])\n",
    "wlrec = np.array([0.65, 0.8, 0.8, 0.9])\n",
    "nfans = np.array([1.2, 1.3, 0.5, 1.0])\n",
    "\n",
    "# input corresponds to every entry for the first game of the season\n",
    "input = np.array([toes[0], wlrec[0], nfans[0]])\n",
    "\n",
    "pred_mnp = neural_network_mnp(input, weights_mnp)\n",
    "\n",
    "print pred_mnp"
   ]
  },
  {
   "cell_type": "markdown",
   "metadata": {},
   "source": [
    "# Basic Neural Net - Single Input, Multiple Outputs"
   ]
  },
  {
   "cell_type": "code",
   "execution_count": 16,
   "metadata": {
    "collapsed": false
   },
   "outputs": [
    {
     "name": "stdout",
     "output_type": "stream",
     "text": [
      "[0.195, 0.13, 0.5850000000000001]\n"
     ]
    }
   ],
   "source": [
    "\"\"\" Instead of predicting just the team won or lost, now we're also predicting\n",
    "whether they are happy/sad AND the percentage of the team that is hurt.\n",
    "We are making this prediction using only the current win/loss record\"\"\"\n",
    "weights_simo = [0.3, 0.2, 0.9]\n",
    "def neural_network_simo(input, weights):\n",
    "    pred = ele_mul(input, weights)\n",
    "    return pred\n",
    "\n",
    "def ele_mul(number, vector):\n",
    "    output = [0, 0, 0]\n",
    "    assert(len(output) == len(vector))\n",
    "    for i in xrange(len(vector)):\n",
    "        output[i] = number * vector[i]\n",
    "    return output\n",
    "\n",
    "wlrec = [0.9, 0.8, 0.8, 0.9]\n",
    "input = wlrec[0]\n",
    "pred_simo = neural_network_simo(input, weights_simo)\n",
    "\n",
    "print pred_simo"
   ]
  },
  {
   "cell_type": "markdown",
   "metadata": {},
   "source": [
    "# Basic Neural Net - Multiple Inputs & Outputs"
   ]
  },
  {
   "cell_type": "code",
   "execution_count": 21,
   "metadata": {
    "collapsed": false
   },
   "outputs": [
    {
     "name": "stdout",
     "output_type": "stream",
     "text": [
      "[0.555, 0.9800000000000001, 0.9650000000000001]\n"
     ]
    }
   ],
   "source": [
    "# toes, %win, # fans\n",
    "weights_mimo = [[0.1, 0.1, -0.3], #hurt?\n",
    "                [0.1, 0.2, 0.0], #win?\n",
    "                [0.0, 1.3, 0.1]] #sad?\n",
    "def neural_network_mimo(input, weights):\n",
    "    pred = vect_mat_mul(input, weights)\n",
    "    return pred\n",
    "\n",
    "def vect_mat_mul(vect, matrix):\n",
    "    assert(len(vect) == len(matrix))\n",
    "    output = [0, 0, 0]\n",
    "    for i in range(len(vect)):\n",
    "        output[i] = w_sum(vect, matrix[i])\n",
    "    return output\n",
    "\n",
    "def w_sum(a, b):\n",
    "    assert(len(a) == len(b))\n",
    "    output = 0\n",
    "    for i in range(len(a)):\n",
    "        output += (a[i] * b[i])\n",
    "    return output    \n",
    "\n",
    "\"\"\"This dataset is the current status at the beginning of each game for the first 4 games in a season\n",
    "toes = current number of toes\n",
    "wlrec = current games won (percent)\n",
    "nfans = fan count (in millions)\"\"\"\n",
    "\n",
    "toes = [8.5, 9.5, 9.9, 9.0]\n",
    "wlrec = [0.65, 0.8, 0.8, 0.9]\n",
    "nfans = [1.2, 1.3, 0.5, 1.0]\n",
    "\n",
    "# input corresponds to every entry for the first game of the season\n",
    "\n",
    "input = [toes[0], wlrec[0], nfans[0]]\n",
    "\n",
    "pred_mimo = neural_network_mimo(input, weights_mimo)\n",
    "print pred_mimo"
   ]
  },
  {
   "cell_type": "markdown",
   "metadata": {},
   "source": [
    "# Stacked Neural Networks - Predicting on Predictions"
   ]
  },
  {
   "cell_type": "code",
   "execution_count": 22,
   "metadata": {
    "collapsed": false
   },
   "outputs": [
    {
     "name": "stdout",
     "output_type": "stream",
     "text": [
      "[0.21350000000000002, 0.14500000000000002, 0.5065]\n"
     ]
    }
   ],
   "source": [
    "# toes, %win, # fans\n",
    "ih_wgt = [[0.1, 0.2, -0.1], #hid[0]\n",
    "          [-0.1, 0.1, 0.9], #hid[1]\n",
    "          [0.1, 0.4, 0.1]] #hid[2]\n",
    "\n",
    "# hid[0], hid[1], hid[2]\n",
    "hp_wgt = [[0.3, 1.1, -0.3], #hurt?\n",
    "          [0.1, 0.2, 0.0], #win?\n",
    "          [0.0, 1.3, 0.1]] #sad?\n",
    "\n",
    "weights_pp = [ih_wgt, hp_wgt]\n",
    "\n",
    "def neural_network_pp(input, weights):\n",
    "    hid = vect_mat_mul(input, weights[0])\n",
    "    pred = vect_mat_mul(hid, weights[1])\n",
    "    return pred\n",
    "\n",
    "toes = [8.5, 9.5, 9.9, 9.0]\n",
    "wlrec = [0.65, 0.8, 0.8, 0.9]\n",
    "nfans = [1.2, 1.3, 0.5, 1.0]\n",
    "\n",
    "# input corresponds to every entry for the first game of the season\n",
    "\n",
    "input = [toes[0], wlrec[0], nfans[0]]\n",
    "\n",
    "pred_pp = neural_network_pp(input, weights_pp)\n",
    "print pred_pp"
   ]
  },
  {
   "cell_type": "markdown",
   "metadata": {},
   "source": [
    "# Stacked Neural Networks - Numpy"
   ]
  },
  {
   "cell_type": "code",
   "execution_count": 26,
   "metadata": {
    "collapsed": false
   },
   "outputs": [
    {
     "name": "stdout",
     "output_type": "stream",
     "text": [
      "[ 0.2135  0.145   0.5065]\n"
     ]
    }
   ],
   "source": [
    "import numpy as np\n",
    "\n",
    "ih_wgt_np = np.array([[0.1, 0.2, -0.1], #hid[0]\n",
    "                      [-0.1, 0.1, 0.9], #hid[1]\n",
    "                      [0.1, 0.4, 0.1]]).T #hid[2]\n",
    "\n",
    "# hid[0], hid[1], hid[2]\n",
    "hp_wgt_np = np.array([[0.3, 1.1, -0.3], #hurt?\n",
    "                      [0.1, 0.2, 0.0], #win?\n",
    "                      [0.0, 1.3, 0.1]]).T #sad?\n",
    "\n",
    "weights_ppnp = [ih_wgt_np, hp_wgt_np]\n",
    "\n",
    "def neural_network_pp(input, weights):\n",
    "    hid = input.dot(weights[0])\n",
    "    pred = hid.dot(weights[1])\n",
    "    return pred\n",
    "\n",
    "toes = np.array([8.5, 9.5, 9.9, 9.0])\n",
    "wlrec = np.array([0.65, 0.8, 0.8, 0.9])\n",
    "nfans = np.array([1.2, 1.3, 0.5, 1.0])\n",
    "\n",
    "# input corresponds to every entry for the first game of the season\n",
    "\n",
    "input = np.array([toes[0], wlrec[0], nfans[0]])\n",
    "\n",
    "pred_ppnp = neural_network_pp(input, weights_ppnp)\n",
    "print pred_ppnp"
   ]
  },
  {
   "cell_type": "code",
   "execution_count": null,
   "metadata": {
    "collapsed": true
   },
   "outputs": [],
   "source": []
  }
 ],
 "metadata": {
  "anaconda-cloud": {},
  "kernelspec": {
   "display_name": "Python [default]",
   "language": "python",
   "name": "python2"
  },
  "language_info": {
   "codemirror_mode": {
    "name": "ipython",
    "version": 2
   },
   "file_extension": ".py",
   "mimetype": "text/x-python",
   "name": "python",
   "nbconvert_exporter": "python",
   "pygments_lexer": "ipython2",
   "version": "2.7.12"
  }
 },
 "nbformat": 4,
 "nbformat_minor": 1
}
